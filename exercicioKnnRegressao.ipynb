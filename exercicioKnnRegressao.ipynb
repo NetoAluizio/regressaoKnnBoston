{
 "cells": [
  {
   "cell_type": "code",
   "execution_count": 128,
   "id": "1ed277c0",
   "metadata": {},
   "outputs": [],
   "source": [
    "import pandas as pd\n",
    "from sklearn.neighbors import KNeighborsRegressor\n",
    "from sklearn.datasets import load_boston\n",
    "from sklearn.model_selection import train_test_split"
   ]
  },
  {
   "cell_type": "code",
   "execution_count": 129,
   "id": "e61c5363",
   "metadata": {},
   "outputs": [],
   "source": [
    "# Usando a média dos rótulos dos 3 vizinhos mais próximos\n",
    "knn = KNeighborsRegressor(n_neighbors=3)"
   ]
  },
  {
   "cell_type": "code",
   "execution_count": 130,
   "id": "d87e51b9",
   "metadata": {},
   "outputs": [],
   "source": [
    "# Conjunto de dados importado do skalearn\n",
    "df = load_boston()"
   ]
  },
  {
   "cell_type": "code",
   "execution_count": 131,
   "id": "51ebce1e",
   "metadata": {},
   "outputs": [],
   "source": [
    "# importar dados separando em atributos e rótulos\n",
    "X, y = load_boston(return_X_y=True)"
   ]
  },
  {
   "cell_type": "code",
   "execution_count": 132,
   "id": "482b78af",
   "metadata": {},
   "outputs": [
    {
     "data": {
      "text/plain": [
       "(506, 13)"
      ]
     },
     "execution_count": 132,
     "metadata": {},
     "output_type": "execute_result"
    }
   ],
   "source": [
    "X.shape"
   ]
  },
  {
   "cell_type": "code",
   "execution_count": 133,
   "id": "89bd98fd",
   "metadata": {},
   "outputs": [
    {
     "data": {
      "text/plain": [
       "(506,)"
      ]
     },
     "execution_count": 133,
     "metadata": {},
     "output_type": "execute_result"
    }
   ],
   "source": [
    "y.shape"
   ]
  },
  {
   "cell_type": "code",
   "execution_count": 134,
   "id": "c06b6e40",
   "metadata": {},
   "outputs": [
    {
     "name": "stdout",
     "output_type": "stream",
     "text": [
      ".. _boston_dataset:\n",
      "\n",
      "Boston house prices dataset\n",
      "---------------------------\n",
      "\n",
      "**Data Set Characteristics:**  \n",
      "\n",
      "    :Number of Instances: 506 \n",
      "\n",
      "    :Number of Attributes: 13 numeric/categorical predictive. Median Value (attribute 14) is usually the target.\n",
      "\n",
      "    :Attribute Information (in order):\n",
      "        - CRIM     per capita crime rate by town\n",
      "        - ZN       proportion of residential land zoned for lots over 25,000 sq.ft.\n",
      "        - INDUS    proportion of non-retail business acres per town\n",
      "        - CHAS     Charles River dummy variable (= 1 if tract bounds river; 0 otherwise)\n",
      "        - NOX      nitric oxides concentration (parts per 10 million)\n",
      "        - RM       average number of rooms per dwelling\n",
      "        - AGE      proportion of owner-occupied units built prior to 1940\n",
      "        - DIS      weighted distances to five Boston employment centres\n",
      "        - RAD      index of accessibility to radial highways\n",
      "        - TAX      full-value property-tax rate per $10,000\n",
      "        - PTRATIO  pupil-teacher ratio by town\n",
      "        - B        1000(Bk - 0.63)^2 where Bk is the proportion of blacks by town\n",
      "        - LSTAT    % lower status of the population\n",
      "        - MEDV     Median value of owner-occupied homes in $1000's\n",
      "\n",
      "    :Missing Attribute Values: None\n",
      "\n",
      "    :Creator: Harrison, D. and Rubinfeld, D.L.\n",
      "\n",
      "This is a copy of UCI ML housing dataset.\n",
      "https://archive.ics.uci.edu/ml/machine-learning-databases/housing/\n",
      "\n",
      "\n",
      "This dataset was taken from the StatLib library which is maintained at Carnegie Mellon University.\n",
      "\n",
      "The Boston house-price data of Harrison, D. and Rubinfeld, D.L. 'Hedonic\n",
      "prices and the demand for clean air', J. Environ. Economics & Management,\n",
      "vol.5, 81-102, 1978.   Used in Belsley, Kuh & Welsch, 'Regression diagnostics\n",
      "...', Wiley, 1980.   N.B. Various transformations are used in the table on\n",
      "pages 244-261 of the latter.\n",
      "\n",
      "The Boston house-price data has been used in many machine learning papers that address regression\n",
      "problems.   \n",
      "     \n",
      ".. topic:: References\n",
      "\n",
      "   - Belsley, Kuh & Welsch, 'Regression diagnostics: Identifying Influential Data and Sources of Collinearity', Wiley, 1980. 244-261.\n",
      "   - Quinlan,R. (1993). Combining Instance-Based and Model-Based Learning. In Proceedings on the Tenth International Conference of Machine Learning, 236-243, University of Massachusetts, Amherst. Morgan Kaufmann.\n",
      "\n"
     ]
    }
   ],
   "source": [
    "# descrição do conjunto de dados\n",
    "print(load_boston()['DESCR'])"
   ]
  },
  {
   "cell_type": "code",
   "execution_count": 135,
   "id": "10f13fcf",
   "metadata": {},
   "outputs": [],
   "source": [
    "# Divisão treino e teste\n",
    "X_train, X_test, y_train, y_test = train_test_split(X,y)"
   ]
  },
  {
   "cell_type": "code",
   "execution_count": 136,
   "id": "79d4ab8f",
   "metadata": {},
   "outputs": [
    {
     "data": {
      "text/plain": [
       "KNeighborsRegressor(n_neighbors=3)"
      ]
     },
     "execution_count": 136,
     "metadata": {},
     "output_type": "execute_result"
    }
   ],
   "source": [
    "# Armazenar valores de treino\n",
    "knn.fit(X_train,y_train)"
   ]
  },
  {
   "cell_type": "code",
   "execution_count": 137,
   "id": "b2cb9beb",
   "metadata": {},
   "outputs": [
    {
     "data": {
      "text/plain": [
       "0.4097636490416011"
      ]
     },
     "execution_count": 137,
     "metadata": {},
     "output_type": "execute_result"
    }
   ],
   "source": [
    "# Resultado da regressão após treino (n_neighbors=3)\n",
    "knn.score(X_test,y_test)"
   ]
  },
  {
   "cell_type": "code",
   "execution_count": 138,
   "id": "bf532090",
   "metadata": {},
   "outputs": [
    {
     "data": {
      "text/plain": [
       "0.5502887837344024"
      ]
     },
     "execution_count": 138,
     "metadata": {},
     "output_type": "execute_result"
    }
   ],
   "source": [
    "# Mesma regressão com quantidade diferente de neighbors (n_neighbors=5) \n",
    "knn5 = KNeighborsRegressor(n_neighbors=5)\n",
    "df = load_boston()\n",
    "X, y = load_boston(return_X_y=True)\n",
    "X_train, X_test, y_train, y_test = train_test_split(X,y)\n",
    "knn5.fit(X_train,y_train)\n",
    "knn5.score(X_test,y_test)"
   ]
  },
  {
   "cell_type": "code",
   "execution_count": 139,
   "id": "87518e0c",
   "metadata": {},
   "outputs": [
    {
     "data": {
      "text/plain": [
       "0.49750242240367826"
      ]
     },
     "execution_count": 139,
     "metadata": {},
     "output_type": "execute_result"
    }
   ],
   "source": [
    "# Mesma regressão com quantidade diferente de neighbors (n_neighbors=7)\n",
    "knn7 = KNeighborsRegressor(n_neighbors=7)\n",
    "df = load_boston()\n",
    "X, y = load_boston(return_X_y=True)\n",
    "X_train, X_test, y_train, y_test = train_test_split(X,y)\n",
    "knn7.fit(X_train,y_train)\n",
    "knn7.score(X_test,y_test)"
   ]
  },
  {
   "cell_type": "code",
   "execution_count": 140,
   "id": "f8c6db48",
   "metadata": {},
   "outputs": [
    {
     "data": {
      "text/plain": [
       "0.3560889661336052"
      ]
     },
     "execution_count": 140,
     "metadata": {},
     "output_type": "execute_result"
    }
   ],
   "source": [
    "# Mesma regressão com quantidade diferente de neighbors (n_neighbors=1) \n",
    "knn1 = KNeighborsRegressor(n_neighbors=1)\n",
    "df = load_boston()\n",
    "X, y = load_boston(return_X_y=True)\n",
    "X_train, X_test, y_train, y_test = train_test_split(X,y)\n",
    "knn1.fit(X_train,y_train)\n",
    "knn1.score(X_test,y_test)"
   ]
  },
  {
   "cell_type": "code",
   "execution_count": 141,
   "id": "dada4a19",
   "metadata": {},
   "outputs": [],
   "source": [
    "# Uso do MinMaxScaler para mudar escala dos atributos e verificar alteração do resultado da regressão\n",
    "# n_neighbors=3\n",
    "from sklearn.preprocessing import MinMaxScaler"
   ]
  },
  {
   "cell_type": "code",
   "execution_count": 142,
   "id": "9729e9c8",
   "metadata": {},
   "outputs": [
    {
     "data": {
      "text/plain": [
       "array([[7.31968244e-03, 0.00000000e+00, 7.79494911e-01, ...,\n",
       "        9.14893617e-01, 1.00000000e+00, 4.61644592e-01],\n",
       "       [9.90101972e-05, 7.50000000e-01, 1.05163965e-01, ...,\n",
       "        9.04255319e-01, 1.00000000e+00, 3.60651214e-01],\n",
       "       [1.79387981e-04, 1.75000000e-01, 6.40784018e-03, ...,\n",
       "        6.38297872e-01, 9.90771093e-01, 1.74392936e-01],\n",
       "       ...,\n",
       "       [4.68965607e-03, 0.00000000e+00, 2.32566905e-01, ...,\n",
       "        7.44680851e-01, 1.00000000e+00, 1.64735099e-01],\n",
       "       [8.17378139e-04, 0.00000000e+00, 1.07048624e-01, ...,\n",
       "        4.25531915e-01, 9.85803621e-01, 1.43211921e-01],\n",
       "       [2.96568181e-03, 0.00000000e+00, 3.19638145e-01, ...,\n",
       "        7.02127660e-01, 1.00000000e+00, 3.47682119e-01]])"
      ]
     },
     "execution_count": 142,
     "metadata": {},
     "output_type": "execute_result"
    }
   ],
   "source": [
    "mm = MinMaxScaler()\n",
    "X_train = mm.fit_transform(X_train)\n",
    "X_train"
   ]
  },
  {
   "cell_type": "code",
   "execution_count": 143,
   "id": "f2f95e86",
   "metadata": {},
   "outputs": [
    {
     "data": {
      "text/plain": [
       "array([[7.73816373e-03, 0.00000000e+00, 1.88088956e-01, ...,\n",
       "        5.10638298e-01, 9.72288063e-01, 2.04194260e-02],\n",
       "       [7.91223399e-02, 0.00000000e+00, 6.36637769e-01, ...,\n",
       "        8.08510638e-01, 1.00000000e+00, 2.48620309e-01],\n",
       "       [1.38192667e-03, 0.00000000e+00, 2.77044855e-01, ...,\n",
       "        8.82978723e-01, 9.91401483e-01, 3.10982340e-01],\n",
       "       ...,\n",
       "       [1.81770754e-02, 0.00000000e+00, 6.92423671e-01, ...,\n",
       "        2.23404255e-01, 8.91547733e-01, 1.29690949e-01],\n",
       "       [6.70358877e-04, 7.00000000e-01, 3.88239729e-02, ...,\n",
       "        2.34042553e-01, 9.36154118e-01, 8.30573951e-02],\n",
       "       [1.70357381e-03, 0.00000000e+00, 3.31699962e-01, ...,\n",
       "        5.53191489e-01, 9.90922386e-01, 2.84492274e-01]])"
      ]
     },
     "execution_count": 143,
     "metadata": {},
     "output_type": "execute_result"
    }
   ],
   "source": [
    "X_test = mm.transform(X_test)\n",
    "X_test"
   ]
  },
  {
   "cell_type": "code",
   "execution_count": 145,
   "id": "57790277",
   "metadata": {},
   "outputs": [
    {
     "data": {
      "text/plain": [
       "KNeighborsRegressor(n_neighbors=3)"
      ]
     },
     "execution_count": 145,
     "metadata": {},
     "output_type": "execute_result"
    }
   ],
   "source": [
    "knn.fit(X_train,y_train)\n"
   ]
  },
  {
   "cell_type": "code",
   "execution_count": 146,
   "id": "3aaa87d2",
   "metadata": {},
   "outputs": [
    {
     "data": {
      "text/plain": [
       "0.6222614596092914"
      ]
     },
     "execution_count": 146,
     "metadata": {},
     "output_type": "execute_result"
    }
   ],
   "source": [
    "knn.score(X_test,y_test)"
   ]
  },
  {
   "cell_type": "code",
   "execution_count": null,
   "id": "f9de463c",
   "metadata": {},
   "outputs": [],
   "source": [
    "# Aparentemente o uso do MinMaxScaler melhora o resultado "
   ]
  },
  {
   "cell_type": "code",
   "execution_count": 152,
   "id": "38e1a230",
   "metadata": {},
   "outputs": [],
   "source": [
    "knn.pred = knn.predict(X_test)"
   ]
  },
  {
   "cell_type": "code",
   "execution_count": 149,
   "id": "1d0ebe4e",
   "metadata": {},
   "outputs": [],
   "source": [
    "import matplotlib.pyplot as plt"
   ]
  },
  {
   "cell_type": "code",
   "execution_count": 154,
   "id": "edcc11af",
   "metadata": {},
   "outputs": [
    {
     "data": {
      "image/png": "[encoded data removed]",
      "text/plain": [
       "<Figure size 432x288 with 1 Axes>"
      ]
     },
     "metadata": {
      "needs_background": "light"
     },
     "output_type": "display_data"
    }
   ],
   "source": [
    "plt.plot(range(knn.pred.shape[0]), knn.pred,'b--')\n",
    "plt.plot(range(y_test.shape[0]), y_test,'r--')\n",
    "plt.legend(['previsto', 'real'])\n",
    "plt.ylabel('Preço')\n",
    "plt.xlabel('Índice')\n",
    "\n",
    "plt.show()"
   ]
  },
  {
   "cell_type": "code",
   "execution_count": null,
   "id": "ed351b01",
   "metadata": {},
   "outputs": [],
   "source": []
  }
 ],
 "metadata": {
  "kernelspec": {
   "display_name": "Python 3",
   "language": "python",
   "name": "python3"
  },
  "language_info": {
   "codemirror_mode": {
    "name": "ipython",
    "version": 3
   },
   "file_extension": ".py",
   "mimetype": "text/x-python",
   "name": "python",
   "nbconvert_exporter": "python",
   "pygments_lexer": "ipython3",
   "version": "3.8.8"
  }
 },
 "nbformat": 4,
 "nbformat_minor": 5
}
